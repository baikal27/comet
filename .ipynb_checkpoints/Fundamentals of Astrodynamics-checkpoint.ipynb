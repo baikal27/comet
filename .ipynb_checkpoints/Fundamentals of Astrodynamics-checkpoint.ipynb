{
 "cells": [
  {
   "cell_type": "code",
   "execution_count": 11,
   "metadata": {},
   "outputs": [
    {
     "name": "stdout",
     "output_type": "stream",
     "text": [
      "128996527.426 57994.6590644\n",
      "specific mechanical energy =  8.320052044e+15\n",
      "specific angular momentum =  [ -5.42736736e+12   2.71368368e+12   5.42736736e+11]\n"
     ]
    }
   ],
   "source": [
    "import numpy as np\n",
    "\n",
    "r = np.array([4.1852, 6.2778, 10.463]) * 10**7\n",
    "v = np.array([2.5936, 5.1872, 0.]) * 10**4\n",
    "\n",
    "r_ = np.linalg.norm(r)\n",
    "v_ = np.linalg.norm(v)\n",
    "\n",
    "mu = 1. # g*lm\n",
    "\n",
    "print(r_, v_)\n",
    "\n",
    "spec_mechani_ener = np.dot(r,r) / 2 - mu / r_\n",
    "spec_angular_moment = np.cross(r, v)\n",
    "\n",
    "print(\"specific mechanical energy = \", spec_mechani_ener)\n",
    "print(\"specific angular momentum = \", spec_angular_moment)"
   ]
  },
  {
   "cell_type": "code",
   "execution_count": 14,
   "metadata": {},
   "outputs": [
    {
     "name": "stdout",
     "output_type": "stream",
     "text": [
      "128996527.426 57994.6590644\n",
      "specific mechanical energy =  1573000000.0\n",
      "specific angular momentum =  [ -5.42736736e+12   2.71368368e+12   5.42736736e+11]\n"
     ]
    }
   ],
   "source": [
    "import numpy as np\n",
    "\n",
    "r = np.array([4.1852, 6.2778, 10.463]) * 10**7\n",
    "v = np.array([2.5936, 5.1872, 0.]) * 10**4\n",
    "\n",
    "r_ = np.linalg.norm(r)\n",
    "v_ = np.linalg.norm(v)\n",
    "\n",
    "mu = 1.40206635251e+16 # g*lm\n",
    "\n",
    "print(r_, v_)\n",
    "\n",
    "spec_mechani_ener = np.dot(v,v) / 2 - mu / r_\n",
    "spec_angular_moment = np.cross(r, v)\n",
    "\n",
    "print(\"specific mechanical energy = \", spec_mechani_ener)\n",
    "print(\"specific angular momentum = \", spec_angular_moment)"
   ]
  },
  {
   "cell_type": "code",
   "execution_count": 1,
   "metadata": {},
   "outputs": [
    {
     "name": "stdout",
     "output_type": "stream",
     "text": [
      "angular momentum: [ 0.4 -1.6  1.2]\n",
      "specific mechanical energy: -0.10867513459481287\n"
     ]
    }
   ],
   "source": [
    "import numpy as np\n",
    "\n",
    "mu = 1. # T**2/a**3\n",
    "\n",
    "r = np.array([2, 2, 2])\n",
    "v = np.array([-0.4, 0.2, 0.4])\n",
    "\n",
    "hv = np.cross(r, v) # DU**2/TU\n",
    "energ = 1/2*np.linalg.norm(v)**2 - mu/np.linalg.norm(r) # DU**2/TU**2\n",
    "\n",
    "print('angular momentum: {}'.format(hv))\n",
    "print('specific mechanical energy: {}'.format(energ))"
   ]
  },
  {
   "cell_type": "code",
   "execution_count": 6,
   "metadata": {},
   "outputs": [
    {
     "name": "stdout",
     "output_type": "stream",
     "text": [
      "eccentricity: 1.0000000000024236\n"
     ]
    }
   ],
   "source": [
    "import numpy as np\n",
    "\n",
    "mu = 1.40206635251e+16\n",
    "\n",
    "rharry = 4000 # harry\n",
    "r = rharry * 6076.11549 # ft\n",
    "v = 45000\n",
    "\n",
    "energ = np.dot(v,v)/2 - mu/r\n",
    "h = r*v\n",
    "e = np.sqrt(1+(2*h*energ/mu**2))\n",
    "\n",
    "print('eccentricity: {}'.format(e))\n"
   ]
  },
  {
   "cell_type": "code",
   "execution_count": 8,
   "metadata": {},
   "outputs": [
    {
     "name": "stdout",
     "output_type": "stream",
     "text": [
      "period: 2.7427449934903856\n"
     ]
    }
   ],
   "source": [
    "import numpy as np\n",
    "\n",
    "mu = 1.40206635251e+16\n",
    "ft = 6076.11549\n",
    "ra = 600 * ft\n",
    "rp = 100 * ft\n",
    "a = (ra + rp)/2\n",
    "period = np.sqrt(4*np.pi**2/mu*a**3)\n",
    "print('period: {}'.format(period/60))"
   ]
  },
  {
   "cell_type": "code",
   "execution_count": 13,
   "metadata": {},
   "outputs": [
    {
     "name": "stdout",
     "output_type": "stream",
     "text": [
      "perigee: 24020910.240773257, 20910.2407732577\n",
      "apogee: 36020910.24077326, 20910.2407732577\n",
      "parameter: 28800000.0\n",
      "r: 33543811.285341337\n"
     ]
    }
   ],
   "source": [
    "import numpy as np\n",
    "\n",
    "DUE = 2.092567257e7 # ft\n",
    "TUE = 13.44686457 * 60 # sec\n",
    "muE = 1.407646882e16 # ft**3/sec**2\n",
    "\n",
    "nmitoft = 6076.11549\n",
    "nmitometer = 1851\n",
    "metertonmi = 1/1851\n",
    "\n",
    "rearth = 6370 * metertonmi * nmitoft \n",
    "\n",
    "a = 30e6 #ft\n",
    "e = 0.2\n",
    "\n",
    "rp = a*(1-e)\n",
    "ra = a*(1+e)\n",
    "\n",
    "p = a*(1-e**2)\n",
    "\n",
    "print('perigee: {}, {}'.format(rp+rearth, rearth))\n",
    "print('apogee: {}, {}'.format(ra+rearth, rearth))\n",
    "print('parameter: {}'.format(p))\n",
    "\n",
    "r = p / (1+e*np.cos(135*np.pi/180))\n",
    "print('r: {}'.format(r))\n",
    "\n"
   ]
  },
  {
   "cell_type": "code",
   "execution_count": 44,
   "metadata": {},
   "outputs": [
    {
     "data": {
      "text/plain": [
       "[<matplotlib.lines.Line2D at 0x11b9c5750>]"
      ]
     },
     "execution_count": 44,
     "metadata": {},
     "output_type": "execute_result"
    },
    {
     "data": {
      "image/png": "[encoded data removed]",
      "text/plain": [
       "<Figure size 432x288 with 1 Axes>"
      ]
     },
     "metadata": {
      "needs_background": "light"
     },
     "output_type": "display_data"
    }
   ],
   "source": [
    "%matplotlib inline\n",
    "import numpy as np\n",
    "import matplotlib.pyplot as plt\n",
    "\n",
    "p = 3\n",
    "e = 0.4\n",
    "\n",
    "nu = np.linspace(0, 360, 360)\n",
    "radnu = nu*np.pi/180\n",
    "r = p / (1+e*np.cos(radnu))\n",
    "\n",
    "x = r * np.cos(radnu)\n",
    "y = r * np.sin(radnu)\n",
    "\n",
    "fig = plt.figure()\n",
    "ax = fig.add_subplot(111)\n",
    "ax.set_xlabel('X')\n",
    "ax.set_ylabel('Y')\n",
    "ax.plot(x, y, 'ro')\n",
    "#ax.set_aspect('equal', adjustable='box')"
   ]
  },
  {
   "cell_type": "code",
   "execution_count": 83,
   "metadata": {},
   "outputs": [
    {
     "name": "stdout",
     "output_type": "stream",
     "text": [
      "b: 2.749545416973504\n",
      "nu: 113.56671334266854, r: 2.9997380133290967, ellipv: 68369370.71755914, cirv: 68363400.35696489\n",
      "error: 0.008732507746666094\n"
     ]
    },
    {
     "data": {
      "image/png": "[encoded data removed]",
      "text/plain": [
       "<Figure size 1080x864 with 1 Axes>"
      ]
     },
     "metadata": {
      "needs_background": "light"
     },
     "output_type": "display_data"
    }
   ],
   "source": [
    "import numpy as np\n",
    "%matplotlib inline\n",
    "import matplotlib.pyplot as plt\n",
    "\n",
    "nu = np.linspace(0, 360, 5000)\n",
    "radnu = nu*np.pi/180\n",
    "\n",
    "a = 3\n",
    "e = 0.4\n",
    "\n",
    "ellr = a*(1-e**2)/(1+e*np.cos(radnu))\n",
    "ellx = ellr*np.cos(radnu)\n",
    "elly = ellr*np.sin(radnu)\n",
    "\n",
    "ellb = a*np.sqrt(1-e**2)\n",
    "print('b: {}'.format(ellb))\n",
    "\n",
    "maxind = np.argmax(elly)\n",
    "maxnu = nu[maxind]\n",
    "maxr = ellr[maxind]\n",
    "bv = np.sqrt(2*mu*(1/maxr - 1/(2*a)))\n",
    "\n",
    "fig = plt.figure(figsize=(15,12))\n",
    "ax = fig.add_subplot(121)\n",
    "ax.set_xlabel('X')\n",
    "ax.set_ylabel('Y')\n",
    "ax.set_xlim(-10, 10)\n",
    "ax.set_ylim(-10, 10)\n",
    "ax.plot(ellx, elly, 'ro')\n",
    "ax.set_aspect('equal', adjustable='box')\n",
    "\n",
    "r = a\n",
    "cirx = r*np.cos(radnu)\n",
    "ciry = r*np.sin(radnu)\n",
    "cirv = np.sqrt(mu/r)\n",
    "\n",
    "ax.plot(cirx, ciry, 'bo')\n",
    "ax.plot(0, 0, 'ko')\n",
    "ax.plot(-2*a*e, 0, 'ko')\n",
    "\n",
    "print('nu: {}, r: {}, ellipv: {}, cirv: {}'.format(maxnu, maxr, bv, cirv))\n",
    "print('error: {}'.format((bv-cirv)/bv*100))\n"
   ]
  },
  {
   "cell_type": "code",
   "execution_count": 100,
   "metadata": {},
   "outputs": [
    {
     "name": "stdout",
     "output_type": "stream",
     "text": [
      "[0 1 0]\n",
      "angular momentum: [0 0 2]\n",
      "eccentricity: [1. 0. 0.]\n",
      "ascending node: [0 0 0]\n",
      "inclination: 0.0\n",
      "omega: nan\n",
      "small omega: nan\n",
      "nu0: 0.0\n",
      "u0: nan\n"
     ]
    },
    {
     "name": "stderr",
     "output_type": "stream",
     "text": [
      "/usr/local/lib/python3.7/site-packages/ipykernel_launcher.py:22: RuntimeWarning: invalid value encountered in true_divide\n",
      "/usr/local/lib/python3.7/site-packages/ipykernel_launcher.py:23: RuntimeWarning: invalid value encountered in double_scalars\n",
      "/usr/local/lib/python3.7/site-packages/ipykernel_launcher.py:25: RuntimeWarning: invalid value encountered in true_divide\n"
     ]
    }
   ],
   "source": [
    "import numpy as np\n",
    "\n",
    "todeg = 180/np.pi\n",
    "torad = np.pi/180\n",
    "mu = 1\n",
    "\n",
    "r = np.array([2, 0, 0])\n",
    "v = np.array([0, 1, 0])\n",
    "print(v)\n",
    "\n",
    "k = np.array([0, 0, 1])\n",
    "\n",
    "h = np.cross(r, v)\n",
    "e = 1/mu*((np.dot(v,v)-mu/np.linalg.norm(r))*r - (np.dot(r,v)*r))\n",
    "n = np.cross(k, h)\n",
    "\n",
    "print('angular momentum: {}'.format(h))\n",
    "print('eccentricity: {}'.format(e))\n",
    "print('ascending node: {}'.format(n))\n",
    "\n",
    "i = np.arccos(h[2]/np.linalg.norm(h))\n",
    "omega = np.arccos(n[0]/np.linalg.norm(n))\n",
    "smallomega = np.arccos(np.dot(n, e)/(np.linalg.norm(n)*np.linalg.norm(e)))\n",
    "nuzero = np.arccos(np.dot(e, r)/(np.linalg.norm(e)*np.linalg.norm(r)))\n",
    "uzero = np.arccos(np.dot(n, r)/(np.linalg.norm(n)*np.linalg.norm(r)))\n",
    "\n",
    "print('inclination: {}'.format(i))\n",
    "print('omega: {}'.format(omega))\n",
    "print('small omega: {}'.format(smallomega))\n",
    "print('nu0: {}'.format(nuzero))\n",
    "print('u0: {}'.format(uzero))"
   ]
  },
  {
   "cell_type": "code",
   "execution_count": 96,
   "metadata": {},
   "outputs": [
    {
     "name": "stdout",
     "output_type": "stream",
     "text": [
      "angular momentum: [ 0.53033009 -0.91855865  1.06066017]\n",
      "eccentricity: [0.4330127 0.25      0.       ]\n",
      "ascending node: [ 0.91855865  0.53033009 -0.        ] \n",
      "\n",
      "eccentricity: 0.4999999999999997\n",
      "semi-major axis: 2.9999999999999987\n",
      "inclination: 45.0\n",
      "omega: 30.000000000000004\n",
      "small omega: 0.0\n",
      "nu0: 0.0\n",
      "u0: 0.0\n"
     ]
    }
   ],
   "source": [
    "import numpy as np\n",
    "\n",
    "todeg = 180/np.pi\n",
    "torad = np.pi/180\n",
    "mu = 1\n",
    "\n",
    "r = np.array([3*np.sqrt(3)/4, 3/4, 0])\n",
    "v = np.array([-1/np.sqrt(8), np.sqrt(3/8), 1/np.sqrt(2)])\n",
    "\n",
    "k = np.array([0, 0, 1])\n",
    "\n",
    "h = np.cross(r, v)\n",
    "e = 1/mu*((np.dot(v,v)-mu/np.linalg.norm(r))*r - (np.dot(r,v)*r))\n",
    "n = np.cross(k, h)\n",
    "\n",
    "print('angular momentum: {}'.format(h))\n",
    "print('eccentricity: {}'.format(e))\n",
    "print('ascending node: {} \\n'.format(n))\n",
    "\n",
    "i = np.arccos(h[2]/np.linalg.norm(h))\n",
    "omega = np.arccos(n[0]/np.linalg.norm(n))\n",
    "smallomega = np.arccos(np.dot(n, e)/(np.linalg.norm(n)*np.linalg.norm(e)))\n",
    "nuzero = np.arccos(np.dot(e, r)/(np.linalg.norm(e)*np.linalg.norm(r)))\n",
    "uzero = np.arccos(np.dot(n, r)/(np.linalg.norm(n)*np.linalg.norm(r)))\n",
    "\n",
    "i = i * todeg\n",
    "omega = omega * todeg\n",
    "smallomega = smallomega * todeg\n",
    "nuzero = nuzero * todeg\n",
    "uzero = uzero * todeg\n",
    "\n",
    "if n[1] < 0:\n",
    "    omega = 360 - omega\n",
    "    \n",
    "if e[2] < 0:\n",
    "    smallomega = 360 - smallomega\n",
    "    \n",
    "if np.dot(r,v) < 0:\n",
    "    nuzero = 360 - nuzero\n",
    "    \n",
    "if r[2] < 0:\n",
    "    uzero = 360 - uzero\n",
    "\n",
    "print('eccentricity: {}'.format(np.linalg.norm(e)))\n",
    "print('semi-major axis: {}'.format(np.dot(h, h)/(mu*(1-np.dot(e,e)))))\n",
    "print('inclination: {}'.format(i))\n",
    "print('omega: {}'.format(omega))\n",
    "print('small omega: {}'.format(smallomega))\n",
    "print('nu0: {}'.format(nuzero))\n",
    "print('u0: {}'.format(uzero))"
   ]
  },
  {
   "cell_type": "code",
   "execution_count": 107,
   "metadata": {},
   "outputs": [
    {
     "name": "stdout",
     "output_type": "stream",
     "text": [
      "angular momentum: [0. 0. 2.]\n",
      "eccentricity: [1. 0. 0.]\n",
      "ascending node: [0. 0. 0.] \n",
      "\n",
      "eccentricity: 1.0\n",
      "semi-major axis: inf\n",
      "inclination: 0.0\n",
      "omega: nan\n",
      "small omega: nan\n",
      "nu0: 0.0\n",
      "u0: nan\n",
      "----------------------------------------------------------------------\n",
      "angular momentum: [ 0.53033009 -0.91855865  1.06066017]\n",
      "eccentricity: [0.4330127 0.25      0.       ]\n",
      "ascending node: [ 0.91855865  0.53033009 -0.        ] \n",
      "\n",
      "eccentricity: 0.4999999999999997\n",
      "semi-major axis: 2.9999999999999987\n",
      "inclination: 45.0\n",
      "omega: 30.000000000000004\n",
      "small omega: 0.0\n",
      "nu0: 0.0\n",
      "u0: 0.0\n",
      "----------------------------------------------------------------------\n"
     ]
    },
    {
     "name": "stderr",
     "output_type": "stream",
     "text": [
      "/usr/local/lib/python3.7/site-packages/ipykernel_launcher.py:23: RuntimeWarning: invalid value encountered in double_scalars\n",
      "/usr/local/lib/python3.7/site-packages/ipykernel_launcher.py:24: RuntimeWarning: invalid value encountered in double_scalars\n",
      "/usr/local/lib/python3.7/site-packages/ipykernel_launcher.py:26: RuntimeWarning: invalid value encountered in double_scalars\n",
      "/usr/local/lib/python3.7/site-packages/ipykernel_launcher.py:47: RuntimeWarning: divide by zero encountered in double_scalars\n"
     ]
    }
   ],
   "source": [
    "import numpy as np\n",
    "\n",
    "todeg = 180/np.pi\n",
    "torad = np.pi/180\n",
    "mu = 1\n",
    "\n",
    "r0 = np.array([[2, 0, 0],\n",
    "              [3*np.sqrt(3)/4, 3/4, 0]])\n",
    "v0 = np.array([[0, 1, 0],\n",
    "              [-1/np.sqrt(8), np.sqrt(3/8), 1/np.sqrt(2)]])\n",
    "k = np.array([0, 0, 1])\n",
    "\n",
    "for r, v in zip(r0,v0):\n",
    "    h = np.cross(r, v)\n",
    "    e = 1/mu*((np.dot(v,v)-mu/np.linalg.norm(r))*r - (np.dot(r,v)*r))\n",
    "    n = np.cross(k, h)\n",
    "\n",
    "    print('angular momentum: {}'.format(h))\n",
    "    print('eccentricity: {}'.format(e))\n",
    "    print('ascending node: {} \\n'.format(n))\n",
    "\n",
    "    i = np.arccos(h[2]/np.linalg.norm(h))\n",
    "    omega = np.arccos(n[0]/np.linalg.norm(n))\n",
    "    smallomega = np.arccos(np.dot(n, e)/(np.linalg.norm(n)*np.linalg.norm(e)))\n",
    "    nuzero = np.arccos(np.dot(e, r)/(np.linalg.norm(e)*np.linalg.norm(r)))\n",
    "    uzero = np.arccos(np.dot(n, r)/(np.linalg.norm(n)*np.linalg.norm(r)))\n",
    "\n",
    "    i = i * todeg\n",
    "    omega = omega * todeg\n",
    "    smallomega = smallomega * todeg\n",
    "    nuzero = nuzero * todeg\n",
    "    uzero = uzero * todeg\n",
    "\n",
    "    if n[1] < 0:\n",
    "        omega = 360 - omega\n",
    "    \n",
    "    if e[2] < 0:\n",
    "        smallomega = 360 - smallomega\n",
    "    \n",
    "    if np.dot(r,v) < 0:\n",
    "        nuzero = 360 - nuzero\n",
    "    \n",
    "    if r[2] < 0:\n",
    "        uzero = 360 - uzero\n",
    "\n",
    "    print('parameter(p): {}'.format())\n",
    "    print('eccentricity: {}'.format(np.linalg.norm(e)))\n",
    "    print('semi-major axis: {}'.format(np.dot(h, h)/(mu*(1-np.dot(e,e)))))\n",
    "    print('inclination: {}'.format(i))\n",
    "    print('omega: {}'.format(omega))\n",
    "    print('small omega: {}'.format(smallomega))\n",
    "    print('nu0: {}'.format(nuzero))\n",
    "    print('u0: {}'.format(uzero))\n",
    "    print('-'*70)"
   ]
  },
  {
   "cell_type": "code",
   "execution_count": null,
   "metadata": {},
   "outputs": [],
   "source": []
  }
 ],
 "metadata": {
  "kernelspec": {
   "display_name": "Python 3",
   "language": "python",
   "name": "python3"
  },
  "language_info": {
   "codemirror_mode": {
    "name": "ipython",
    "version": 3
   },
   "file_extension": ".py",
   "mimetype": "text/x-python",
   "name": "python",
   "nbconvert_exporter": "python",
   "pygments_lexer": "ipython3",
   "version": "3.7.4"
  }
 },
 "nbformat": 4,
 "nbformat_minor": 2
}
